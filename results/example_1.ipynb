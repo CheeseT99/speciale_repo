{
 "cells": [
  {
   "cell_type": "code",
   "execution_count": 1,
   "id": "4fe5237b",
   "metadata": {},
   "outputs": [
    {
     "name": "stdout",
     "output_type": "stream",
     "text": [
      "Adding to sys.path: c:\\Users\\toros\\OneDrive\\Dokumenter\\advanced_finance\\speciale_repo\\functions\n",
      "Files in functions folder: ['backtest_before_reference_rules.py', 'BMA_analysis.py', 'CommonFunctions.py', 'ConditionalAssetPricingCommonFunction.py', 'conditionalAssetPricingLogMarginalLikelihoodTauClass.py', 'conditionalAssetPricingOOSPrediction.py', 'evaluation.py', 'expected_returns_puller.py', 'GammaFunctions.py', 'other_optimizations.py', 'prospect_optimizer.py', 'tictoc.py', 'visualisation.py', 'weight_analysis.py', 'writeProfLatexTable.py', '__pycache__']\n"
     ]
    }
   ],
   "source": [
    "%load_ext autoreload\n",
    "%autoreload 2\n",
    "\n",
    "import sys\n",
    "import os\n",
    "\n",
    "# Construct and print the path\n",
    "functions_path = os.path.abspath(os.path.join(os.getcwd(), '..', 'functions'))\n",
    "print(\"Adding to sys.path:\", functions_path)\n",
    "\n",
    "# Add to sys.path if not already there\n",
    "if functions_path not in sys.path:\n",
    "    sys.path.append(functions_path)\n",
    "\n",
    "# Print files to verify\n",
    "print(\"Files in functions folder:\", os.listdir(functions_path))\n",
    "\n",
    "# Now try importing\n",
    "import prospect_optimizer as po"
   ]
  },
  {
   "cell_type": "code",
   "execution_count": 2,
   "id": "ddc85168",
   "metadata": {},
   "outputs": [
    {
     "name": "stdout",
     "output_type": "stream",
     "text": [
      "Files in functions folder: ['backtest_before_reference_rules.py', 'BMA_analysis.py', 'CommonFunctions.py', 'ConditionalAssetPricingCommonFunction.py', 'conditionalAssetPricingLogMarginalLikelihoodTauClass.py', 'conditionalAssetPricingOOSPrediction.py', 'evaluation.py', 'expected_returns_puller.py', 'GammaFunctions.py', 'other_optimizations.py', 'prospect_optimizer.py', 'tictoc.py', 'visualisation.py', 'weight_analysis.py', 'writeProfLatexTable.py', '__pycache__']\n",
      "c:\\Users\\toros\\OneDrive\\Dokumenter\\advanced_finance\\speciale_repo\\functions\n"
     ]
    }
   ],
   "source": [
    "#Requirements\n",
    "import numpy as np\n",
    "import plotly.graph_objects as go\n",
    "from scipy.optimize import minimize\n",
    "import pandas as pd\n",
    "import statsmodels.api as sm\n",
    "from scipy.stats import mannwhitneyu, levene, f_oneway\n",
    "\n",
    "import os\n",
    "import sys\n",
    "import time\n",
    "import pickle as pkl\n",
    "\n",
    "\n",
    "# Add the functions folder to the Python path\n",
    "functions_path = os.path.abspath(os.path.join(os.getcwd(), '..', 'functions'))\n",
    "print(\"Files in functions folder:\", os.listdir(functions_path))\n",
    "print(functions_path)\n",
    "import prospect_optimizer as po"
   ]
  },
  {
   "cell_type": "code",
   "execution_count": 5,
   "id": "170fe386",
   "metadata": {},
   "outputs": [
    {
     "name": "stdout",
     "output_type": "stream",
     "text": [
      "Results are generating\n",
      "Done\n",
      "Elapsed time: 0.06\n"
     ]
    }
   ],
   "source": [
    "\n",
    "toc = time.time()\n",
    "\n",
    "parent_dir = os.getcwd() # speciale_repo\n",
    "\n",
    "### Input parameters\n",
    "r_hat = 0.1  # Reference return\n",
    "lambda_ = 1.5  # Base loss aversion coefficient\n",
    "strategies = [\"conservative\",\"aggressive\"]  # You can switch between \"aggressive\" or \"conservative\"\n",
    "#lambda_values = [2.5, 1]\n",
    "#gamma_values = [0.5, 2]\n",
    "\n",
    "# strategies = [\"conservative\",\"aggressive\"]\n",
    "lambda_values = [1.5]\n",
    "\n",
    "gamma_values = [0.12]\n",
    "\n",
    "#Indlæser returnsdata\n",
    "#datapath = os.path.join(parent_dir+'/data/returns_data.csv')\n",
    "returns_data = np.array([[0.10, 0.20, 0.05],\n",
    "              [0.20, -0.05,-0.90],\n",
    "              [0.10, 0.20, 0.40]])\n",
    "# Short data\n",
    "datapath = os.path.join(parent_dir+'/data/returns.csv')\n",
    "\n",
    "\n",
    "returns = pd.read_csv(datapath, index_col='Date')\n",
    "\n",
    "# factors_result = po.optimize_portfolio(r_s, r_hat, lambda_, strategy)\n",
    "\n",
    "\n",
    "returns_result = po.optimize_portfolio(returns_data, r_hat, lambda_, gamma = 0.12)\n",
    "print(\"Results are generating\")\n",
    "#results = po.resultgenerator(lambda_values, gamma_values, returns, strategies)\n",
    "print(\"Done\")\n",
    "\n",
    "\n",
    "\n",
    "# Create returns_conservative\n",
    "#returns_conservative = {\n",
    "#    key: value for key, value in results.items() if \"conservative\" in key\n",
    "#}\n",
    "\n",
    "# Create returns_aggressive\n",
    "#returns_aggressive = {\n",
    "#    key: value for key, value in results.items() if \"aggressive\" in key\n",
    "#}\n",
    "\n",
    "\n",
    "\n",
    "\n",
    "tic = time.time()\n",
    "print(f\"Elapsed time: {(tic-toc):.2f}\")"
   ]
  },
  {
   "cell_type": "code",
   "execution_count": 6,
   "id": "40be04d5",
   "metadata": {},
   "outputs": [
    {
     "data": {
      "text/plain": [
       "array([ 0.88790047,  0.11209953, -0.        ])"
      ]
     },
     "execution_count": 6,
     "metadata": {},
     "output_type": "execute_result"
    }
   ],
   "source": [
    "np.set_printoptions(suppress=True)\n",
    "returns_result.x"
   ]
  },
  {
   "cell_type": "code",
   "execution_count": null,
   "id": "fd5e8446",
   "metadata": {},
   "outputs": [],
   "source": []
  }
 ],
 "metadata": {
  "kernelspec": {
   "display_name": ".venv",
   "language": "python",
   "name": "python3"
  },
  "language_info": {
   "codemirror_mode": {
    "name": "ipython",
    "version": 3
   },
   "file_extension": ".py",
   "mimetype": "text/x-python",
   "name": "python",
   "nbconvert_exporter": "python",
   "pygments_lexer": "ipython3",
   "version": "3.13.0"
  }
 },
 "nbformat": 4,
 "nbformat_minor": 5
}
